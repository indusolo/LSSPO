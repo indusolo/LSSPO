{
 "cells": [
  {
   "cell_type": "code",
   "execution_count": 1,
   "metadata": {
    "_cell_guid": "561039f5-e670-489b-bd80-02ebe28ad1a0",
    "_uuid": "5b829f06-ec7b-4654-a9ab-4c22a5fb03cd",
    "execution": {
     "iopub.execute_input": "2021-09-11T07:57:27.543015Z",
     "iopub.status.busy": "2021-09-11T07:57:27.542712Z",
     "iopub.status.idle": "2021-09-11T07:57:27.555034Z",
     "shell.execute_reply": "2021-09-11T07:57:27.553987Z",
     "shell.execute_reply.started": "2021-09-11T07:57:27.542983Z"
    },
    "jupyter": {
     "outputs_hidden": false
    }
   },
   "outputs": [
    {
     "name": "stderr",
     "output_type": "stream",
     "text": [
      "C:\\Users\\91948\\Anaconda3\\lib\\site-packages\\statsmodels\\tools\\_testing.py:19: FutureWarning: pandas.util.testing is deprecated. Use the functions in the public API at pandas.testing instead.\n",
      "  import pandas.util.testing as tm\n"
     ]
    }
   ],
   "source": [
    "# Necessary imports\n",
    "import pandas as pd\n",
    "import numpy as np\n",
    "from numpy import genfromtxt\n",
    "import csv\n",
    "import seaborn as sns\n",
    "from scipy import stats\n",
    "import matplotlib.pyplot as plt\n",
    "import matplotlib.colors\n",
    "from sklearn.manifold import TSNE\n",
    "from tensorflow.keras.models import load_model\n",
    "from io import StringIO\n",
    "from sklearn.preprocessing import MinMaxScaler\n",
    "from sklearn.preprocessing import StandardScaler\n",
    "import time\n",
    "import csv\n",
    "from sklearn.impute import SimpleImputer as Imputer\n",
    "import tensorflow as tf\n",
    "tf.random.set_seed(2)\n",
    "from tensorflow import keras\n",
    "from tensorflow.keras import layers\n",
    "from tensorflow.keras.layers import Lambda, Input, Dense, Layer\n",
    "from tensorflow.keras.losses import mse, binary_crossentropy\n",
    "from tensorflow.keras.layers import Activation, Dense, Flatten \n",
    "from tensorflow.keras import backend as K\n",
    "from numpy.random import seed\n",
    "seed(1)\n",
    "import random\n",
    "random.seed(3)\n",
    "from sklearn.neural_network import MLPClassifier\n",
    "from sklearn.metrics import plot_confusion_matrix\n",
    "from sklearn.metrics import precision_recall_fscore_support\n",
    "from sklearn.metrics import classification_report\n",
    "from sklearn.model_selection import KFold\n",
    "from sklearn.metrics import confusion_matrix\n",
    "from sklearn.model_selection import train_test_split\n",
    "from sklearn.metrics import silhouette_samples, silhouette_score"
   ]
  },
  {
   "cell_type": "code",
   "execution_count": 2,
   "metadata": {
    "_cell_guid": "d5bc6e18-d881-48e5-8daa-ef8448ba3948",
    "_uuid": "6f208a14-1edd-49f1-ac96-23f09ef5344e",
    "execution": {
     "iopub.execute_input": "2021-09-11T07:57:27.556969Z",
     "iopub.status.busy": "2021-09-11T07:57:27.556707Z",
     "iopub.status.idle": "2021-09-11T07:57:28.326258Z",
     "shell.execute_reply": "2021-09-11T07:57:28.325413Z",
     "shell.execute_reply.started": "2021-09-11T07:57:27.556942Z"
    },
    "jupyter": {
     "outputs_hidden": false
    }
   },
   "outputs": [
    {
     "name": "stdout",
     "output_type": "stream",
     "text": [
      "Data size (1567, 590)\n",
      "Labels size (1567,)\n",
      "Minority class count = 104\n",
      "       0        1          2          3       4    5         6       7    \\\n",
      "0  3030.93     2564  2187.7333  1411.1265  1.3602  100   97.6133  0.1242   \n",
      "1  3095.78  2465.14  2230.4222  1463.6606  0.8294  100  102.3433  0.1247   \n",
      "2  2932.61  2559.94  2186.4111  1698.0172  1.5102  100   95.4878  0.1241   \n",
      "3  2988.72   2479.9  2199.0333   909.7926  1.3204  100  104.2367  0.1217   \n",
      "4  3032.24  2502.87  2233.3667    1326.52  1.5334  100  100.3967  0.1235   \n",
      "\n",
      "      8        9    ...     580       581     582     583     584      585  \\\n",
      "0  1.5005   0.0162  ...     NaN       NaN  0.5005  0.0118  0.0035    2.363   \n",
      "1  1.4966  -0.0005  ...   0.006  208.2045  0.5019  0.0223  0.0055   4.4447   \n",
      "2  1.4436   0.0041  ...  0.0148   82.8602  0.4958  0.0157  0.0039   3.1745   \n",
      "3  1.4882  -0.0124  ...  0.0044   73.8432   0.499  0.0103  0.0025   2.0544   \n",
      "4  1.5031  -0.0031  ...     NaN       NaN    0.48  0.4766  0.1045  99.3032   \n",
      "\n",
      "      586     587     588       589  \n",
      "0     NaN     NaN     NaN       NaN  \n",
      "1  0.0096  0.0201   0.006  208.2045  \n",
      "2  0.0584  0.0484  0.0148   82.8602  \n",
      "3  0.0202  0.0149  0.0044   73.8432  \n",
      "4  0.0202  0.0149  0.0044   73.8432  \n",
      "\n",
      "[5 rows x 590 columns]\n",
      "<class 'pandas.core.frame.DataFrame'>\n",
      "RangeIndex: 1567 entries, 0 to 1566\n",
      "Columns: 590 entries, 0 to 589\n",
      "dtypes: object(590)\n",
      "memory usage: 7.1+ MB\n"
     ]
    }
   ],
   "source": [
    "#Read the Secom dataset\n",
    "reader = csv.reader(open(\"SECOM/SECOM.TXT\"), delimiter=\" \")\n",
    "Data = pd.DataFrame(reader)\n",
    "labels = csv.reader(open(\"SECOM/SECOM_labels.TXT\"), delimiter=\" \")\n",
    "secom_labels = pd.DataFrame(labels)\n",
    "y = secom_labels[0].astype('int8')\n",
    "print(\"Data size\",Data.shape)\n",
    "print('Labels size',y.shape)\n",
    "print(\"Minority class count =\", np.sum(y==1))\n",
    "print(Data.head())\n",
    "Data.info()\n",
    "#Data = Data.astype('float')\n",
    "Target = pd.DataFrame()\n",
    "Target['tar'] = y"
   ]
  },
  {
   "cell_type": "code",
   "execution_count": 3,
   "metadata": {
    "_cell_guid": "d58e56bc-eca4-4791-af43-c1f10b4401e6",
    "_uuid": "4d24b0e4-d705-474d-8838-352a902401c0",
    "execution": {
     "iopub.execute_input": "2021-09-11T07:57:28.327783Z",
     "iopub.status.busy": "2021-09-11T07:57:28.327552Z",
     "iopub.status.idle": "2021-09-11T07:57:28.336492Z",
     "shell.execute_reply": "2021-09-11T07:57:28.335621Z",
     "shell.execute_reply.started": "2021-09-11T07:57:28.327756Z"
    },
    "jupyter": {
     "outputs_hidden": false
    }
   },
   "outputs": [
    {
     "data": {
      "text/plain": [
       "(1567, 590)"
      ]
     },
     "execution_count": 3,
     "metadata": {},
     "output_type": "execute_result"
    }
   ],
   "source": [
    "Data.shape"
   ]
  },
  {
   "cell_type": "code",
   "execution_count": 4,
   "metadata": {
    "_cell_guid": "18477219-9c78-46c1-9439-90fff769ef8e",
    "_uuid": "c2168746-b294-487b-bd0d-e8f02e2b701c",
    "execution": {
     "iopub.execute_input": "2021-09-11T07:57:28.338917Z",
     "iopub.status.busy": "2021-09-11T07:57:28.338686Z",
     "iopub.status.idle": "2021-09-11T07:57:30.694768Z",
     "shell.execute_reply": "2021-09-11T07:57:30.693624Z",
     "shell.execute_reply.started": "2021-09-11T07:57:28.33889Z"
    },
    "jupyter": {
     "outputs_hidden": false
    }
   },
   "outputs": [
    {
     "data": {
      "text/plain": [
       "<matplotlib.legend.Legend at 0x224c15344c8>"
      ]
     },
     "execution_count": 4,
     "metadata": {},
     "output_type": "execute_result"
    },
    {
     "data": {
      "image/png": "[encoded data removed]",
      "text/plain": [
       "<Figure size 1080x360 with 1 Axes>"
      ]
     },
     "metadata": {
      "needs_background": "light"
     },
     "output_type": "display_data"
    }
   ],
   "source": [
    "#Handling missing data\n",
    "missdata_Columns = []\n",
    "for i in Data.columns:\n",
    "    if np.sum(Data[i][:] == 'NaN') >0:\n",
    "        missdata_Columns.append([i,np.sum(Data[i][:] == 'NaN')])\n",
    "        #print( i, ':',np.sum(Data[i][:] == 'NaN') )\n",
    "        \n",
    "missdata_df = pd.DataFrame(missdata_Columns)\n",
    "plt.figure(figsize=(15,5))\n",
    "plt.bar(missdata_df[0],missdata_df[1],color='red')\n",
    "plt.legend('Missing')\n",
    "#plt.savefig('SecomDatamissing.png')\n",
    "#plt.show()"
   ]
  },
  {
   "cell_type": "code",
   "execution_count": 5,
   "metadata": {
    "_cell_guid": "c1908ee7-0ff1-41be-a711-08e2ddb27407",
    "_uuid": "ac654f1b-c593-481b-8f43-6b45f66045ee",
    "execution": {
     "iopub.execute_input": "2021-09-11T07:57:30.69615Z",
     "iopub.status.busy": "2021-09-11T07:57:30.695928Z",
     "iopub.status.idle": "2021-09-11T07:57:31.123292Z",
     "shell.execute_reply": "2021-09-11T07:57:31.122608Z",
     "shell.execute_reply.started": "2021-09-11T07:57:30.696124Z"
    },
    "jupyter": {
     "outputs_hidden": false
    }
   },
   "outputs": [],
   "source": [
    "#Replace NaN in missing values with -1.0\n",
    "Data = Data.replace(to_replace = 'NaN', value = '-1.0')\n",
    "Datafloat = Data.copy()\n",
    "#Convert to float datatype\n",
    "Datafloat = Datafloat.astype('float64')"
   ]
  },
  {
   "cell_type": "code",
   "execution_count": 6,
   "metadata": {
    "_cell_guid": "c5cf2b11-d1f2-4254-80e5-6e97610e46a1",
    "_uuid": "d86198c1-4395-4205-8273-32c1a0ceecda",
    "execution": {
     "iopub.execute_input": "2021-09-11T07:57:31.12477Z",
     "iopub.status.busy": "2021-09-11T07:57:31.124316Z",
     "iopub.status.idle": "2021-09-11T07:57:31.129984Z",
     "shell.execute_reply": "2021-09-11T07:57:31.129142Z",
     "shell.execute_reply.started": "2021-09-11T07:57:31.124738Z"
    },
    "jupyter": {
     "outputs_hidden": false
    }
   },
   "outputs": [],
   "source": [
    "# Impute Missing Values\n",
    "def impute(df, cols,strat):\n",
    "    imputer = Imputer(missing_values = -1.0,strategy=strat)\n",
    "    df_impute = df[cols]\n",
    "    df[cols] = imputer.fit_transform(df_impute.values.reshape(-1,1))\n",
    "    return df"
   ]
  },
  {
   "cell_type": "code",
   "execution_count": 7,
   "metadata": {
    "_cell_guid": "fdebd961-3efa-45f6-b279-b2f4c4c4fae3",
    "_uuid": "7b55ad7f-bde4-4b86-ae01-5b30e9570f31",
    "execution": {
     "iopub.execute_input": "2021-09-11T07:57:31.131367Z",
     "iopub.status.busy": "2021-09-11T07:57:31.131136Z",
     "iopub.status.idle": "2021-09-11T07:57:32.131654Z",
     "shell.execute_reply": "2021-09-11T07:57:32.130925Z",
     "shell.execute_reply.started": "2021-09-11T07:57:31.13134Z"
    },
    "jupyter": {
     "outputs_hidden": false
    }
   },
   "outputs": [],
   "source": [
    "#Imputing strategy mean, nearest and linear interpolation\n",
    "for i in Datafloat.columns:\n",
    "    if np.abs(np.sum(Datafloat[i][:] == -1.0)) >= 700:\n",
    "        \n",
    "        Datafloat.drop([i],inplace = True,axis =1)\n",
    "    elif np.abs(np.sum(Datafloat[i][:] == -1.0)) <=30:\n",
    "    #    print(i)\n",
    "        600 #and np.abs(np.sum(Data[i][:] == -1.0)) <=780:\n",
    "        Datafloat = impute(Datafloat,i,'mean')\n",
    "    elif np.abs(np.sum(Datafloat[i][:] == -1.0))  > 30 and np.abs(np.sum(Datafloat[i][:] == -1))  <=200:\n",
    "        Datafloat[i].replace(to_replace = -1.0, value = None)\n",
    "        Datafloat[i].interpolate(method ='nearest', limit_direction ='forward')\n",
    "    elif np.abs(np.sum(Datafloat[i][:] == -1.0))  > 200 and np.abs(np.sum(Datafloat[i][:] == -1))  <=300:\n",
    "        Datafloat[i].replace(to_replace = -1.0, value = None)\n",
    "        Datafloat[i].interpolate(method ='linear', limit_direction ='both')"
   ]
  },
  {
   "cell_type": "code",
   "execution_count": 8,
   "metadata": {
    "_cell_guid": "105ba3bc-6084-42ca-b6c5-b4272873309e",
    "_uuid": "6ab3feb6-dadc-4036-8d61-8d237bfb106c",
    "execution": {
     "iopub.execute_input": "2021-09-11T07:57:32.133241Z",
     "iopub.status.busy": "2021-09-11T07:57:32.132921Z",
     "iopub.status.idle": "2021-09-11T07:57:32.139107Z",
     "shell.execute_reply": "2021-09-11T07:57:32.138277Z",
     "shell.execute_reply.started": "2021-09-11T07:57:32.133191Z"
    },
    "jupyter": {
     "outputs_hidden": false
    }
   },
   "outputs": [],
   "source": [
    "#Get the unique value columns\n",
    "def uniq_cols_fn(data):\n",
    "    uniq_col_list = []\n",
    "    for column in data.columns:\n",
    "        if data[column].nunique() == 1:\n",
    "            uniq_col_list.append(column)\n",
    "    return uniq_col_list"
   ]
  },
  {
   "cell_type": "code",
   "execution_count": 9,
   "metadata": {
    "_cell_guid": "c8311aff-fb00-48bc-a9f2-60f915989022",
    "_uuid": "26261c54-1f37-4ce5-8cc9-89907337b256",
    "execution": {
     "iopub.execute_input": "2021-09-11T07:57:32.140333Z",
     "iopub.status.busy": "2021-09-11T07:57:32.140119Z",
     "iopub.status.idle": "2021-09-11T07:57:32.233313Z",
     "shell.execute_reply": "2021-09-11T07:57:32.232627Z",
     "shell.execute_reply.started": "2021-09-11T07:57:32.14029Z"
    },
    "jupyter": {
     "outputs_hidden": false
    }
   },
   "outputs": [
    {
     "data": {
      "text/plain": [
       "116"
      ]
     },
     "execution_count": 9,
     "metadata": {},
     "output_type": "execute_result"
    }
   ],
   "source": [
    "len(uniq_cols_fn(Datafloat))"
   ]
  },
  {
   "cell_type": "code",
   "execution_count": 10,
   "metadata": {
    "_cell_guid": "b560dd76-e761-4de3-99cb-15f183173acc",
    "_uuid": "0444e978-cd90-43d5-9f3c-abdb9f4332de",
    "execution": {
     "iopub.execute_input": "2021-09-11T07:57:32.235962Z",
     "iopub.status.busy": "2021-09-11T07:57:32.23575Z",
     "iopub.status.idle": "2021-09-11T07:57:32.29819Z",
     "shell.execute_reply": "2021-09-11T07:57:32.297514Z",
     "shell.execute_reply.started": "2021-09-11T07:57:32.235938Z"
    },
    "jupyter": {
     "outputs_hidden": false
    }
   },
   "outputs": [
    {
     "data": {
      "text/plain": [
       "(1567, 442)"
      ]
     },
     "execution_count": 10,
     "metadata": {},
     "output_type": "execute_result"
    }
   ],
   "source": [
    "Datafloat = Datafloat.drop(axis=1, columns=uniq_cols_fn(Datafloat))\n",
    "Datafloat.shape"
   ]
  },
  {
   "cell_type": "code",
   "execution_count": 11,
   "metadata": {
    "_cell_guid": "77dd5ef4-d05b-42d2-bacd-dd11796fd044",
    "_uuid": "fac8ce16-7314-4f86-9475-99c3c123ea47",
    "execution": {
     "iopub.execute_input": "2021-09-11T07:57:32.300021Z",
     "iopub.status.busy": "2021-09-11T07:57:32.299574Z",
     "iopub.status.idle": "2021-09-11T07:57:32.306044Z",
     "shell.execute_reply": "2021-09-11T07:57:32.305199Z",
     "shell.execute_reply.started": "2021-09-11T07:57:32.299977Z"
    },
    "jupyter": {
     "outputs_hidden": false
    }
   },
   "outputs": [
    {
     "data": {
      "text/plain": [
       "1463"
      ]
     },
     "execution_count": 11,
     "metadata": {},
     "output_type": "execute_result"
    }
   ],
   "source": [
    "np.sum(y==-1)"
   ]
  },
  {
   "cell_type": "code",
   "execution_count": 12,
   "metadata": {
    "_cell_guid": "786cfa89-2ffa-4169-9113-0831cd18adba",
    "_uuid": "c365ec92-1a3d-453c-bbe6-d8ca20a9b983",
    "execution": {
     "iopub.execute_input": "2021-09-11T07:57:32.307303Z",
     "iopub.status.busy": "2021-09-11T07:57:32.307108Z",
     "iopub.status.idle": "2021-09-11T07:57:32.333859Z",
     "shell.execute_reply": "2021-09-11T07:57:32.33301Z",
     "shell.execute_reply.started": "2021-09-11T07:57:32.30728Z"
    },
    "jupyter": {
     "outputs_hidden": false
    }
   },
   "outputs": [],
   "source": [
    "#Normalize the data between +1 and -1\n",
    "mmscaler    = MinMaxScaler(feature_range=(-1,1))\n",
    "Datascaled   = mmscaler.fit_transform(Datafloat)"
   ]
  },
  {
   "cell_type": "code",
   "execution_count": 13,
   "metadata": {
    "_cell_guid": "5298632e-abf0-4f86-84f7-d4f309b6f8f3",
    "_uuid": "f20b0dcc-2d42-4042-bb1d-36da215d52ec",
    "execution": {
     "iopub.execute_input": "2021-09-11T07:57:32.335886Z",
     "iopub.status.busy": "2021-09-11T07:57:32.335561Z",
     "iopub.status.idle": "2021-09-11T07:57:32.340214Z",
     "shell.execute_reply": "2021-09-11T07:57:32.339381Z",
     "shell.execute_reply.started": "2021-09-11T07:57:32.335847Z"
    },
    "jupyter": {
     "outputs_hidden": false
    }
   },
   "outputs": [],
   "source": [
    "TrainDatascaled = Datascaled\n",
    "y_trn = y"
   ]
  },
  {
   "cell_type": "code",
   "execution_count": 14,
   "metadata": {
    "_cell_guid": "48950b32-e932-44da-a62d-22db9fe2600b",
    "_uuid": "7d42ca26-4282-4e4b-b9f9-67077e90f3bc",
    "execution": {
     "iopub.execute_input": "2021-09-11T07:57:32.341746Z",
     "iopub.status.busy": "2021-09-11T07:57:32.341427Z",
     "iopub.status.idle": "2021-09-11T07:57:32.352935Z",
     "shell.execute_reply": "2021-09-11T07:57:32.352143Z",
     "shell.execute_reply.started": "2021-09-11T07:57:32.341708Z"
    },
    "jupyter": {
     "outputs_hidden": false
    }
   },
   "outputs": [
    {
     "data": {
      "text/plain": [
       "(1567, 442)"
      ]
     },
     "execution_count": 14,
     "metadata": {},
     "output_type": "execute_result"
    }
   ],
   "source": [
    "TrainDatascaled.shape"
   ]
  },
  {
   "cell_type": "code",
   "execution_count": 15,
   "metadata": {},
   "outputs": [],
   "source": [
    "def metrics_aa_gm(ypred, ytrue):\n",
    "    cm = confusion_matrix(ytrue, ypred)\n",
    "    sum_classes = np.sum(cm, axis=1)\n",
    "    true_pred = np.diagonal(cm)\n",
    "    tp_rate = true_pred/sum_classes\n",
    "    ACSA = np.mean(tp_rate)\n",
    "    GM = np.sqrt(np.prod(tp_rate))\n",
    "    return ACSA, GM"
   ]
  },
  {
   "cell_type": "code",
   "execution_count": 16,
   "metadata": {},
   "outputs": [],
   "source": [
    "X_trainmlp, X_valmlp, y_trmlp, y_valmlp = train_test_split(TrainDatascaled, y_trn, \n",
    "                                                    test_size=0.3, random_state=1, stratify = y_trn)"
   ]
  },
  {
   "cell_type": "markdown",
   "metadata": {},
   "source": [
    "##### SMOTE"
   ]
  },
  {
   "cell_type": "code",
   "execution_count": 17,
   "metadata": {},
   "outputs": [],
   "source": [
    "from imblearn.over_sampling import SMOTE"
   ]
  },
  {
   "cell_type": "code",
   "execution_count": 18,
   "metadata": {},
   "outputs": [],
   "source": [
    "oversample = SMOTE()\n",
    "X_sm, y_sm = oversample.fit_resample(X_trainmlp, y_trmlp)"
   ]
  },
  {
   "cell_type": "code",
   "execution_count": 19,
   "metadata": {},
   "outputs": [
    {
     "data": {
      "text/plain": [
       "(2046, 442)"
      ]
     },
     "execution_count": 19,
     "metadata": {},
     "output_type": "execute_result"
    }
   ],
   "source": [
    "X_sm.shape"
   ]
  },
  {
   "cell_type": "code",
   "execution_count": 20,
   "metadata": {},
   "outputs": [
    {
     "name": "stdout",
     "output_type": "stream",
     "text": [
      "0.8535031847133758\n",
      "              precision    recall  f1-score   support\n",
      "\n",
      "    class -1       0.94      0.90      0.92       440\n",
      "     class 1       0.15      0.26      0.19        31\n",
      "\n",
      "    accuracy                           0.85       471\n",
      "   macro avg       0.55      0.58      0.55       471\n",
      "weighted avg       0.89      0.85      0.87       471\n",
      "\n"
     ]
    },
    {
     "data": {
      "image/png": "[encoded data removed]",
      "text/plain": [
       "<Figure size 432x288 with 2 Axes>"
      ]
     },
     "metadata": {
      "needs_background": "light"
     },
     "output_type": "display_data"
    }
   ],
   "source": [
    "X_train = (X_sm)\n",
    "y_train = (y_sm)\n",
    "X_test = (X_valmlp)\n",
    "y_test = (y_valmlp)\n",
    "\n",
    "#X_train, X_test, y_train, y_test = train_test_split(X,y_im,random_state=1, test_size=0.1)\n",
    "sc_X = StandardScaler()\n",
    "mm_X = MinMaxScaler(feature_range=(-2.85,2.85))\n",
    "\n",
    "X_trainscaled= mm_X.fit_transform(X_train)\n",
    "X_testscaled= mm_X.transform(X_test)\n",
    "\n",
    "clf = MLPClassifier(batch_size =200,solver='sgd',hidden_layer_sizes=(512,256,64,16),\n",
    "                    activation=\"tanh\",learning_rate_init = 0.00352,random_state=1,shuffle = True,\n",
    "                    max_iter = 5000,learning_rate = 'adaptive',beta_1=0.9,beta_2=0.999,\n",
    "                   alpha=0.009,warm_start = False)\n",
    "#learning_rate_init = 0.0000595\n",
    "clf.fit(X_trainscaled, y_train)\n",
    "y_pred=clf.predict(X_testscaled)\n",
    "print(clf.score(X_testscaled, y_test))\n",
    "\n",
    "fig=plot_confusion_matrix(clf, X_testscaled, y_test,display_labels=[\"-1\",'1'])\n",
    "fig.figure_.suptitle(\"Confusion Matrix for SMOTE Latent space\")\n",
    "target_names = ['class -1', 'class 1']\n",
    "print(classification_report(y_test, y_pred, target_names=target_names))"
   ]
  },
  {
   "cell_type": "code",
   "execution_count": 21,
   "metadata": {},
   "outputs": [
    {
     "name": "stdout",
     "output_type": "stream",
     "text": [
      "0.5767595307917889 0.4807130578508033\n"
     ]
    }
   ],
   "source": [
    "# Evaluation metrics\n",
    "acsa, gm = metrics_aa_gm(y_pred, y_test) \n",
    "print (acsa, gm,)"
   ]
  },
  {
   "cell_type": "code",
   "execution_count": 22,
   "metadata": {},
   "outputs": [
    {
     "name": "stdout",
     "output_type": "stream",
     "text": [
      "Silhouette score for SMOTE oversampled data:\n",
      "0.014541838607691256\n"
     ]
    }
   ],
   "source": [
    "score_sm = silhouette_score(X_sm, y_sm, metric='l2')\n",
    "print(\"Silhouette score for SMOTE oversampled data:\")\n",
    "print(score_sm)"
   ]
  },
  {
   "cell_type": "markdown",
   "metadata": {},
   "source": [
    "##### No oversampling"
   ]
  },
  {
   "cell_type": "code",
   "execution_count": 23,
   "metadata": {},
   "outputs": [
    {
     "name": "stdout",
     "output_type": "stream",
     "text": [
      "0.910828025477707\n",
      "              precision    recall  f1-score   support\n",
      "\n",
      "    class -1       0.94      0.97      0.95       440\n",
      "     class 1       0.18      0.10      0.12        31\n",
      "\n",
      "    accuracy                           0.91       471\n",
      "   macro avg       0.56      0.53      0.54       471\n",
      "weighted avg       0.89      0.91      0.90       471\n",
      "\n"
     ]
    },
    {
     "data": {
      "image/png": "[encoded data removed]",
      "text/plain": [
       "<Figure size 432x288 with 2 Axes>"
      ]
     },
     "metadata": {
      "needs_background": "light"
     },
     "output_type": "display_data"
    }
   ],
   "source": [
    "X_train = (X_trainmlp)\n",
    "y_train = (y_trmlp)\n",
    "X_test = (X_valmlp)\n",
    "y_test = (y_valmlp)\n",
    "\n",
    "#X_train, X_test, y_train, y_test = train_test_split(X,y_im,random_state=1, test_size=0.1)\n",
    "sc_X = StandardScaler()\n",
    "mm_X = MinMaxScaler(feature_range=(-2.85,2.85))\n",
    "\n",
    "X_trainscaled= mm_X.fit_transform(X_train)\n",
    "X_testscaled= mm_X.transform(X_test)\n",
    "\n",
    "clf = MLPClassifier(batch_size = 64,solver='sgd',hidden_layer_sizes=(512,256,64,16,),\n",
    "                    activation=\"tanh\",learning_rate_init = 0.00015,random_state=1,shuffle = True,\n",
    "                    max_iter = 5000,learning_rate = 'adaptive',beta_1=0.9,beta_2=0.999,\n",
    "                   alpha=0.009,warm_start = False)\n",
    "#learning_rate_init = 0.0000595\n",
    "clf.fit(X_trainscaled, y_train)\n",
    "y_pred=clf.predict(X_testscaled)\n",
    "print(clf.score(X_testscaled, y_test))\n",
    "\n",
    "fig=plot_confusion_matrix(clf, X_testscaled, y_test,display_labels=[\"-1\",'1'])\n",
    "fig.figure_.suptitle(\"Confusion Matrix for original data\")\n",
    "target_names = ['class -1', 'class 1']\n",
    "print(classification_report(y_test, y_pred, target_names=target_names))"
   ]
  },
  {
   "cell_type": "code",
   "execution_count": 24,
   "metadata": {},
   "outputs": [
    {
     "name": "stdout",
     "output_type": "stream",
     "text": [
      "0.5324780058651026 0.3060964139985253\n"
     ]
    }
   ],
   "source": [
    "# Evaluation metrics\n",
    "acsa, gm = metrics_aa_gm(y_pred, y_test) \n",
    "print (acsa, gm,)"
   ]
  },
  {
   "cell_type": "code",
   "execution_count": 25,
   "metadata": {},
   "outputs": [
    {
     "name": "stdout",
     "output_type": "stream",
     "text": [
      "Silhouette score for original data:\n",
      "0.020299099322509614\n"
     ]
    }
   ],
   "source": [
    "score_sm = silhouette_score(TrainDatascaled, y_trn, metric='l2')\n",
    "print(\"Silhouette score for original data:\")\n",
    "print(score_sm)"
   ]
  },
  {
   "cell_type": "markdown",
   "metadata": {},
   "source": [
    "##### ADASYN oversampling"
   ]
  },
  {
   "cell_type": "code",
   "execution_count": 26,
   "metadata": {},
   "outputs": [],
   "source": [
    "from imblearn.over_sampling import ADASYN"
   ]
  },
  {
   "cell_type": "code",
   "execution_count": 27,
   "metadata": {},
   "outputs": [],
   "source": [
    "oversample = ADASYN()\n",
    "X_adsn, y_adsn = oversample.fit_resample(X_trainmlp, y_trmlp)"
   ]
  },
  {
   "cell_type": "code",
   "execution_count": 28,
   "metadata": {},
   "outputs": [
    {
     "name": "stdout",
     "output_type": "stream",
     "text": [
      "0.8407643312101911\n",
      "              precision    recall  f1-score   support\n",
      "\n",
      "    class -1       0.95      0.87      0.91       440\n",
      "     class 1       0.18      0.39      0.24        31\n",
      "\n",
      "    accuracy                           0.84       471\n",
      "   macro avg       0.56      0.63      0.58       471\n",
      "weighted avg       0.90      0.84      0.87       471\n",
      "\n"
     ]
    },
    {
     "data": {
      "image/png": "[encoded data removed]",
      "text/plain": [
       "<Figure size 432x288 with 2 Axes>"
      ]
     },
     "metadata": {
      "needs_background": "light"
     },
     "output_type": "display_data"
    }
   ],
   "source": [
    "X_train = (X_adsn)\n",
    "y_train = (y_adsn)\n",
    "X_test = (X_valmlp)\n",
    "y_test = (y_valmlp)\n",
    "\n",
    "#X_train, X_test, y_train, y_test = train_test_split(X,y_im,random_state=1, test_size=0.1)\n",
    "sc_X = StandardScaler()\n",
    "mm_X = MinMaxScaler(feature_range=(-2.85,2.85))\n",
    "\n",
    "X_trainscaled= mm_X.fit_transform(X_train)\n",
    "X_testscaled= mm_X.transform(X_test)\n",
    "\n",
    "clf = MLPClassifier(batch_size =200,solver='sgd',hidden_layer_sizes=(512,256,64,16,),\n",
    "                    activation=\"tanh\",learning_rate_init = 0.00292,random_state=1,shuffle = True,\n",
    "                    max_iter = 5000,learning_rate = 'adaptive',beta_1=0.9,beta_2=0.999,\n",
    "                   alpha=0.009,warm_start = False)\n",
    "#learning_rate_init = 0.0000595\n",
    "clf.fit(X_trainscaled, y_train)\n",
    "y_pred=clf.predict(X_testscaled)\n",
    "print(clf.score(X_testscaled, y_test))\n",
    "\n",
    "fig=plot_confusion_matrix(clf, X_testscaled, y_test,display_labels=[\"-1\",'1'])\n",
    "fig.figure_.suptitle(\"Confusion Matrix for ADASYN oversampled data\")\n",
    "target_names = ['class -1', 'class 1']\n",
    "print(classification_report(y_test, y_pred, target_names=target_names))"
   ]
  },
  {
   "cell_type": "code",
   "execution_count": 29,
   "metadata": {},
   "outputs": [
    {
     "name": "stdout",
     "output_type": "stream",
     "text": [
      "0.6299120234604105 0.5812313756357793\n"
     ]
    }
   ],
   "source": [
    "# Evaluation metrics\n",
    "acsa, gm = metrics_aa_gm(y_pred, y_test) \n",
    "print (acsa, gm,)"
   ]
  },
  {
   "cell_type": "code",
   "execution_count": 30,
   "metadata": {},
   "outputs": [
    {
     "name": "stdout",
     "output_type": "stream",
     "text": [
      "Silhouette score for adasyn oversampled data:\n",
      "0.012669678443262842\n"
     ]
    }
   ],
   "source": [
    "score_adsn = silhouette_score(X_adsn, y_adsn, metric='l2')\n",
    "print(\"Silhouette score for adasyn oversampled data:\")\n",
    "print(score_adsn)"
   ]
  },
  {
   "cell_type": "markdown",
   "metadata": {},
   "source": [
    "##### Random oversampling"
   ]
  },
  {
   "cell_type": "code",
   "execution_count": 31,
   "metadata": {},
   "outputs": [],
   "source": [
    "from imblearn.over_sampling import RandomOverSampler\n",
    "ros = RandomOverSampler(random_state=0)\n",
    "X_rand, y_rand = ros.fit_resample(X_trainmlp, y_trmlp)"
   ]
  },
  {
   "cell_type": "code",
   "execution_count": 32,
   "metadata": {},
   "outputs": [
    {
     "name": "stdout",
     "output_type": "stream",
     "text": [
      "0.7770700636942676\n",
      "              precision    recall  f1-score   support\n",
      "\n",
      "    class -1       0.95      0.80      0.87       440\n",
      "     class 1       0.14      0.45      0.21        31\n",
      "\n",
      "    accuracy                           0.78       471\n",
      "   macro avg       0.55      0.63      0.54       471\n",
      "weighted avg       0.90      0.78      0.83       471\n",
      "\n"
     ]
    },
    {
     "data": {
      "image/png": "[encoded data removed]",
      "text/plain": [
       "<Figure size 432x288 with 2 Axes>"
      ]
     },
     "metadata": {
      "needs_background": "light"
     },
     "output_type": "display_data"
    }
   ],
   "source": [
    "X_train = (X_rand)\n",
    "y_train = (y_rand)\n",
    "X_test = (X_valmlp)\n",
    "y_test = (y_valmlp)\n",
    "\n",
    "#X_train, X_test, y_train, y_test = train_test_split(X,y_im,random_state=1, test_size=0.1)\n",
    "sc_X = StandardScaler()\n",
    "mm_X = MinMaxScaler(feature_range=(-2.85,2.85))\n",
    "\n",
    "X_trainscaled= mm_X.fit_transform(X_train)\n",
    "X_testscaled= mm_X.transform(X_test)\n",
    "\n",
    "clf = MLPClassifier(batch_size =24,solver='adam',hidden_layer_sizes=(512,256,64,32,),\n",
    "                    activation=\"tanh\",learning_rate_init = 0.00192,random_state=1,shuffle = True,\n",
    "                    max_iter = 5000,learning_rate = 'constant',beta_1=0.9,beta_2=0.999,\n",
    "                   alpha=0.009,warm_start = False)\n",
    "#learning_rate_init = 0.0000595\n",
    "clf.fit(X_trainscaled, y_train)\n",
    "y_pred=clf.predict(X_testscaled)\n",
    "print(clf.score(X_testscaled, y_test))\n",
    "\n",
    "fig=plot_confusion_matrix(clf, X_testscaled, y_test,display_labels=[\"-1\",'1'])\n",
    "fig.figure_.suptitle(\"Confusion Matrix for RANDOM oversampled data\")\n",
    "target_names = ['class -1', 'class 1']\n",
    "print(classification_report(y_test, y_pred, target_names=target_names))"
   ]
  },
  {
   "cell_type": "code",
   "execution_count": 33,
   "metadata": {},
   "outputs": [
    {
     "name": "stdout",
     "output_type": "stream",
     "text": [
      "0.6258064516129033 0.6010743070375286\n"
     ]
    }
   ],
   "source": [
    "# Evaluation metrics\n",
    "acsa, gm = metrics_aa_gm(y_pred, y_test) \n",
    "print (acsa, gm,)"
   ]
  },
  {
   "cell_type": "code",
   "execution_count": 34,
   "metadata": {},
   "outputs": [
    {
     "name": "stdout",
     "output_type": "stream",
     "text": [
      "Silhouette score for RANDOM oversampled data:\n",
      "0.009739406966287252\n"
     ]
    }
   ],
   "source": [
    "score_rand = silhouette_score(X_rand, y_rand, metric='l2')\n",
    "print(\"Silhouette score for RANDOM oversampled data:\")\n",
    "print(score_rand)"
   ]
  },
  {
   "cell_type": "markdown",
   "metadata": {},
   "source": [
    "##### BORDERLINE SMOTE"
   ]
  },
  {
   "cell_type": "code",
   "execution_count": 35,
   "metadata": {},
   "outputs": [],
   "source": [
    "from imblearn.over_sampling import BorderlineSMOTE\n",
    "X_bos, y_bos = BorderlineSMOTE().fit_resample(X_trainmlp, y_trmlp)"
   ]
  },
  {
   "cell_type": "code",
   "execution_count": 36,
   "metadata": {},
   "outputs": [
    {
     "name": "stdout",
     "output_type": "stream",
     "text": [
      "0.7664543524416136\n",
      "              precision    recall  f1-score   support\n",
      "\n",
      "    class -1       0.95      0.79      0.86       440\n",
      "     class 1       0.12      0.42      0.19        31\n",
      "\n",
      "    accuracy                           0.77       471\n",
      "   macro avg       0.54      0.61      0.53       471\n",
      "weighted avg       0.90      0.77      0.82       471\n",
      "\n"
     ]
    },
    {
     "data": {
      "image/png": "[encoded data removed]",
      "text/plain": [
       "<Figure size 432x288 with 2 Axes>"
      ]
     },
     "metadata": {
      "needs_background": "light"
     },
     "output_type": "display_data"
    }
   ],
   "source": [
    "X_train = (X_bos)\n",
    "y_train = (y_bos)\n",
    "X_test = (X_valmlp)\n",
    "y_test = (y_valmlp)\n",
    "\n",
    "#X_train, X_test, y_train, y_test = train_test_split(X,y_im,random_state=1, test_size=0.1)\n",
    "sc_X = StandardScaler()\n",
    "mm_X = MinMaxScaler(feature_range=(-2.85,2.85))\n",
    "\n",
    "X_trainscaled= mm_X.fit_transform(X_train)\n",
    "X_testscaled= mm_X.transform(X_test)\n",
    "\n",
    "clf = MLPClassifier(batch_size = 200,solver='sgd',hidden_layer_sizes=(512,256,128,32,),\n",
    "                    activation=\"tanh\",learning_rate_init = 0.00192,random_state=1,shuffle = True,\n",
    "                    max_iter = 5000,learning_rate = 'constant',beta_1=0.9,beta_2=0.999,\n",
    "                   alpha=0.009,warm_start = False)\n",
    "#learning_rate_init = 0.0000595\n",
    "clf.fit(X_trainscaled, y_train)\n",
    "y_pred=clf.predict(X_testscaled)\n",
    "print(clf.score(X_testscaled, y_test))\n",
    "\n",
    "fig=plot_confusion_matrix(clf, X_testscaled, y_test,display_labels=[\"-1\",'1'])\n",
    "fig.figure_.suptitle(\"Confusion Matrix for BORDERLINE SMOTE oversampled data\")\n",
    "target_names = ['class -1', 'class 1']\n",
    "print(classification_report(y_test, y_pred, target_names=target_names))"
   ]
  },
  {
   "cell_type": "code",
   "execution_count": 37,
   "metadata": {},
   "outputs": [
    {
     "name": "stdout",
     "output_type": "stream",
     "text": [
      "0.6051319648093841 0.5759093281517494\n"
     ]
    }
   ],
   "source": [
    "# Evaluation metrics\n",
    "acsa, gm = metrics_aa_gm(y_pred, y_test) \n",
    "print (acsa, gm,)"
   ]
  },
  {
   "cell_type": "code",
   "execution_count": 38,
   "metadata": {},
   "outputs": [
    {
     "name": "stdout",
     "output_type": "stream",
     "text": [
      "Silhouette score for Borderline SMOTE oversampled data:\n",
      "0.019016760758036728\n"
     ]
    }
   ],
   "source": [
    "score_BOS = silhouette_score(X_bos, y_bos, metric='l2')\n",
    "print(\"Silhouette score for Borderline SMOTE oversampled data:\")\n",
    "print(score_BOS)"
   ]
  },
  {
   "cell_type": "code",
   "execution_count": null,
   "metadata": {},
   "outputs": [],
   "source": []
  }
 ],
 "metadata": {
  "kernelspec": {
   "display_name": "Python 3",
   "language": "python",
   "name": "python3"
  },
  "language_info": {
   "codemirror_mode": {
    "name": "ipython",
    "version": 3
   },
   "file_extension": ".py",
   "mimetype": "text/x-python",
   "name": "python",
   "nbconvert_exporter": "python",
   "pygments_lexer": "ipython3",
   "version": "3.7.4"
  }
 },
 "nbformat": 4,
 "nbformat_minor": 4
}
